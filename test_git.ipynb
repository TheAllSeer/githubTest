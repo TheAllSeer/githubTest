{
 "cells": [
  {
   "cell_type": "code",
   "execution_count": 10,
   "id": "9d796c03-40a8-4d21-b0b5-fd11c38884f4",
   "metadata": {},
   "outputs": [],
   "source": [
    "def func(x):\n",
    "    a = x + 5\n",
    "    return a"
   ]
  },
  {
   "cell_type": "code",
   "execution_count": 12,
   "id": "3238ecc9-98b8-4a61-affb-4877c57ed938",
   "metadata": {},
   "outputs": [
    {
     "data": {
      "text/plain": [
       "(10, 15)"
      ]
     },
     "execution_count": 12,
     "metadata": {},
     "output_type": "execute_result"
    }
   ],
   "source": [
    "e, b = 5, 10\n",
    "tup = (func(e), func(b))\n",
    "e += 1\n",
    "tup"
   ]
  },
  {
   "cell_type": "code",
   "execution_count": 13,
   "id": "70ad6a4e-74c4-4e8e-b3a6-ef1e5b20ae2a",
   "metadata": {},
   "outputs": [
    {
     "name": "stdout",
     "output_type": "stream",
     "text": [
      "0\n",
      "1\n",
      "2\n",
      "3\n",
      "4\n",
      "5\n"
     ]
    }
   ],
   "source": [
    "for i in range(e):\n",
    "    print(i)"
   ]
  },
  {
   "cell_type": "code",
   "execution_count": 18,
   "id": "39fe9cc5-0949-426f-abeb-50e09206403d",
   "metadata": {},
   "outputs": [],
   "source": [
    "x = 'abc'\n",
    "xlist = [c for c in x]"
   ]
  },
  {
   "cell_type": "code",
   "execution_count": 17,
   "id": "1341a884-e362-47eb-bc33-6b1af50f72df",
   "metadata": {},
   "outputs": [],
   "source": []
  },
  {
   "cell_type": "code",
   "execution_count": null,
   "id": "e52c3049-06f6-4e24-a561-155def9e9345",
   "metadata": {},
   "outputs": [],
   "source": []
  }
 ],
 "metadata": {
  "kernelspec": {
   "display_name": "Python 3 (ipykernel)",
   "language": "python",
   "name": "python3"
  },
  "language_info": {
   "codemirror_mode": {
    "name": "ipython",
    "version": 3
   },
   "file_extension": ".py",
   "mimetype": "text/x-python",
   "name": "python",
   "nbconvert_exporter": "python",
   "pygments_lexer": "ipython3",
   "version": "3.10.1"
  },
  "toc-showcode": true,
  "toc-showmarkdowntxt": false
 },
 "nbformat": 4,
 "nbformat_minor": 5
}
