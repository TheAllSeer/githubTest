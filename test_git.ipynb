{
 "cells": [
  {
   "cell_type": "code",
   "execution_count": 4,
   "id": "9d796c03-40a8-4d21-b0b5-fd11c38884f4",
   "metadata": {},
   "outputs": [],
   "source": [
    "def func(x):\n",
    "    a = x + 5\n",
    "    return a"
   ]
  },
  {
   "cell_type": "code",
 patch-1.1
   "execution_count": 5,

   "execution_count": 12,
main
   "id": "3238ecc9-98b8-4a61-affb-4877c57ed938",
   "metadata": {},
   "outputs": [
    {
     "data": {
      "text/plain": [
       "(10, 15)"
      ]
     },
 patch-1.1
     "execution_count": 5,

     "execution_count": 12,
 main
     "metadata": {},
     "output_type": "execute_result"
    }
   ],
   "source": [
    "e, b = 5, 10\n",
    "tup = (func(e), func(b))\n",
    "e += 1\n",
    "tup"
   ]
  },
  {
   "cell_type": "code",
 patch-1.1
   "execution_count": 6,
   "id": "8dec96cd-577f-4ea0-b91b-f4fcf1f859c8",
   "metadata": {},
   "outputs": [
    {
     "name": "stdout",
     "output_type": "stream",
     "text": [
      "0\n",
      "1\n",
      "2\n",
      "3\n",
      "4\n",
      "5\n"
     ]
    }
   ],
   "source": [
    "for i in range(e):\n",
    "    print(i)"
   ]
  },
  {
   "cell_type": "code",
   "execution_count": 7,

   "execution_count": 13,
 main
   "id": "70ad6a4e-74c4-4e8e-b3a6-ef1e5b20ae2a",
   "metadata": {},
   "outputs": [
    {
     "name": "stdout",
     "output_type": "stream",
     "text": [
 patch-1.1
      "the letter a\n",
      "the letter b\n",
      "the letter c\n",
      "balls.\n"

      "0\n",
      "1\n",
      "2\n",
      "3\n",
      "4\n",
      "5\n"
     ]
    }
   ],
   "source": [
    "for i in range(e):\n",
    "    print(i)"
   ]
  },
  {
   "cell_type": "code",
   "execution_count": 18,
   "id": "39fe9cc5-0949-426f-abeb-50e09206403d",
   "metadata": {},
   "outputs": [],
   "source": [
    "x = 'abc'\n",
    "xlist = [c for c in x]"
   ]
  },
  {
   "cell_type": "code",
   "execution_count": 19,
   "id": "1341a884-e362-47eb-bc33-6b1af50f72df",
   "metadata": {},
   "outputs": [
    {
     "name": "stdout",
     "output_type": "stream",
     "text": [
      "the letter a\n",
      "the letter b\n",
      "the letter c\n"
 main
     ]
    }
   ],
   "source": [
 patch-1.1
    "x = 'abc'\n",
    "xlist = [c for c in x]\n",
    "for x in xlist:\n",
    "    print('the letter {}'.format(x))\n",
    "print(\"balls.\")\n",
    "a = 'aaa'"

    "for x in xlist:\n",
    "    print('the letter {}'.format(x))"
 main
   ]
  },
  {
   "cell_type": "code",
 patch-1.1
   "execution_count": 8,
   "id": "39fe9cc5-0949-426f-abeb-50e09206403d",

   "execution_count": null,
   "id": "e52c3049-06f6-4e24-a561-155def9e9345",
 main
   "metadata": {},
   "outputs": [
    {
     "name": "stdout",
     "output_type": "stream",
     "text": [
      "a\n",
      "a\n",
      "a\n"
     ]
    }
   ],
   "source": [
    "alist = [c for c in a]\n",
    "for i in alist:\n",
    "    print(i)"
   ]
  },
  {
   "cell_type": "code",
   "execution_count": null,
   "id": "ab8c86b0-0cc6-4fc5-8d1b-79de8d17e928",
   "metadata": {},
   "outputs": [],
   "source": []
  }
 ],
 "metadata": {
  "kernelspec": {
   "display_name": "Python 3 (ipykernel)",
   "language": "python",
   "name": "python3"
  },
  "language_info": {
   "codemirror_mode": {
    "name": "ipython",
    "version": 3
   },
   "file_extension": ".py",
   "mimetype": "text/x-python",
   "name": "python",
   "nbconvert_exporter": "python",
   "pygments_lexer": "ipython3",
   "version": "3.10.1"
  },
  "toc-showcode": true,
  "toc-showmarkdowntxt": false
 },
 "nbformat": 4,
 "nbformat_minor": 5
}
